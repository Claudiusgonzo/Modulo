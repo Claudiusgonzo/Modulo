{
 "cells": [
  {
   "cell_type": "code",
   "execution_count": 5,
   "metadata": {},
   "outputs": [],
   "source": [
    "from pymodulo.SpatialStratification import GridStratification\n",
    "from pymodulo.DataLoader import CSVDataLoader\n",
    "from pymodulo.VehicleSelector import GreedyVehicleSelector, MaxPointsVehicleSelector, RandomVehicleSelector"
   ]
  },
  {
   "cell_type": "markdown",
   "metadata": {},
   "source": [
    "## Spatial stratification process\n",
    "In this example, we do a grid stratification. At this step, you need to decide the spatial granularity. Since this example uses a grid stratification, we need to decide the length of each side of a grid. In the following example, we keep this length as 1 km. "
   ]
  },
  {
   "cell_type": "code",
   "execution_count": 6,
   "metadata": {},
   "outputs": [],
   "source": [
    "# Here, we keep a cellSide of length 1 km (the first argument)\n",
    "spatial = GridStratification(1, 77.58467674255371, 12.958180959662695, 77.60617733001709, 12.977167633046893)\n",
    "spatial.stratify()"
   ]
  },
  {
   "cell_type": "markdown",
   "metadata": {},
   "source": [
    "Now, `spatial.input_geojson` returns the GeoJSON containing the strata (along with stratum ID). Below, we print the first stratum that was generated. If desired, you can store this GeoJSON using the in-built Python `json` library."
   ]
  },
  {
   "cell_type": "code",
   "execution_count": 7,
   "metadata": {},
   "outputs": [
    {
     "data": {
      "text/plain": [
       "{'type': 'Feature',\n",
       " 'properties': {'stratum_id': 0},\n",
       " 'geometry': {'type': 'Polygon',\n",
       "  'coordinates': [[[77.58619882699857, 12.958681092717548],\n",
       "    [77.58619882699857, 12.967674296354794],\n",
       "    [77.5954270362854, 12.967674296354794],\n",
       "    [77.5954270362854, 12.958681092717548],\n",
       "    [77.58619882699857, 12.958681092717548]]]}}"
      ]
     },
     "execution_count": 7,
     "metadata": {},
     "output_type": "execute_result"
    }
   ],
   "source": [
    "spatial.input_geojson['features'][0]"
   ]
  },
  {
   "cell_type": "markdown",
   "metadata": {},
   "source": [
    "## Data loading process\n",
    "\n",
    "In this step, we upload the vehicle mobility data to a [MongoDB](https://docs.mongodb.com/) database. You need to take care of a few things here:\n",
    "1. You must ensure that you have a MongoDB server (local or remote) running before you continue with this process.\n",
    "2. The input CSV file must containing the following columns: vehicle_id, timestamp, latitude, longitude.\n",
    "3. You will need to decide upon a `temporal_granularity` (in seconds). In this example, we use a temporal granularity of 1 hour (= 3600 seconds).\n",
    "4. Decide the database name and a collection name (inside that database) that you want to upload your data to."
   ]
  },
  {
   "cell_type": "code",
   "execution_count": 8,
   "metadata": {},
   "outputs": [],
   "source": [
    "dataloader = CSVDataLoader('sample_mobility_data.csv', 3600,\n",
    "                           anonymize_data=False,\n",
    "                           mongo_uri='mongodb://localhost:27017/',\n",
    "                           db_name='modulo',\n",
    "                           collection_name='mobility_data')"
   ]
  },
  {
   "cell_type": "markdown",
   "metadata": {},
   "source": [
    "At this point, if you want, you can check your MongoDB database using a [MongoDB GUI](https://www.mongodb.com/products/compass). You should see your data uploaded in the database.\n",
    "\n",
    "Now, we need to compute the stratum ID that each vehicle mobility datum falls into. Similarly, we also need to calculate the temporal ID that each datum falls into. Think of the temporal ID as referring to a \"time bucket\", each of length `temporal_granularity`. Both these methods return the number of records that were updated with the `stratum_id` and the `temporal_id` respectively."
   ]
  },
  {
   "cell_type": "code",
   "execution_count": 9,
   "metadata": {},
   "outputs": [
    {
     "data": {
      "text/plain": [
       "80"
      ]
     },
     "execution_count": 9,
     "metadata": {},
     "output_type": "execute_result"
    }
   ],
   "source": [
    "dataloader.compute_stratum_id_and_update_db(spatial)"
   ]
  },
  {
   "cell_type": "code",
   "execution_count": 10,
   "metadata": {},
   "outputs": [
    {
     "data": {
      "text/plain": [
       "80"
      ]
     },
     "execution_count": 10,
     "metadata": {},
     "output_type": "execute_result"
    }
   ],
   "source": [
    "dataloader.compute_temporal_id_and_update_db()"
   ]
  },
  {
   "cell_type": "markdown",
   "metadata": {},
   "source": [
    "You can use the following helper function to fetch the vehicle mobility data stored in the database. This function will return the stored values as a Pandas DataFrame, which you can conveniently use to do any checks, operations, analysis, etc."
   ]
  },
  {
   "cell_type": "code",
   "execution_count": 11,
   "metadata": {},
   "outputs": [
    {
     "data": {
      "text/html": [
       "<div>\n",
       "<style scoped>\n",
       "    .dataframe tbody tr th:only-of-type {\n",
       "        vertical-align: middle;\n",
       "    }\n",
       "\n",
       "    .dataframe tbody tr th {\n",
       "        vertical-align: top;\n",
       "    }\n",
       "\n",
       "    .dataframe thead th {\n",
       "        text-align: right;\n",
       "    }\n",
       "</style>\n",
       "<table border=\"1\" class=\"dataframe\">\n",
       "  <thead>\n",
       "    <tr style=\"text-align: right;\">\n",
       "      <th></th>\n",
       "      <th>vehicle_id</th>\n",
       "      <th>timestamp</th>\n",
       "      <th>location</th>\n",
       "      <th>stratum_id</th>\n",
       "      <th>temporal_id</th>\n",
       "    </tr>\n",
       "  </thead>\n",
       "  <tbody>\n",
       "    <tr>\n",
       "      <th>0</th>\n",
       "      <td>1</td>\n",
       "      <td>1589374800</td>\n",
       "      <td>{'type': 'Point', 'coordinates': [77.586709756...</td>\n",
       "      <td>0</td>\n",
       "      <td>1589374800</td>\n",
       "    </tr>\n",
       "    <tr>\n",
       "      <th>1</th>\n",
       "      <td>1</td>\n",
       "      <td>1589378141</td>\n",
       "      <td>{'type': 'Point', 'coordinates': [77.588850139...</td>\n",
       "      <td>1</td>\n",
       "      <td>1589374800</td>\n",
       "    </tr>\n",
       "    <tr>\n",
       "      <th>2</th>\n",
       "      <td>1</td>\n",
       "      <td>1589377691</td>\n",
       "      <td>{'type': 'Point', 'coordinates': [77.596664352...</td>\n",
       "      <td>2</td>\n",
       "      <td>1589374800</td>\n",
       "    </tr>\n",
       "    <tr>\n",
       "      <th>3</th>\n",
       "      <td>1</td>\n",
       "      <td>1589376922</td>\n",
       "      <td>{'type': 'Point', 'coordinates': [77.602595282...</td>\n",
       "      <td>3</td>\n",
       "      <td>1589374800</td>\n",
       "    </tr>\n",
       "    <tr>\n",
       "      <th>4</th>\n",
       "      <td>1</td>\n",
       "      <td>1589385081</td>\n",
       "      <td>{'type': 'Point', 'coordinates': [77.591034132...</td>\n",
       "      <td>0</td>\n",
       "      <td>1589382000</td>\n",
       "    </tr>\n",
       "  </tbody>\n",
       "</table>\n",
       "</div>"
      ],
      "text/plain": [
       "   vehicle_id   timestamp                                           location  \\\n",
       "0           1  1589374800  {'type': 'Point', 'coordinates': [77.586709756...   \n",
       "1           1  1589378141  {'type': 'Point', 'coordinates': [77.588850139...   \n",
       "2           1  1589377691  {'type': 'Point', 'coordinates': [77.596664352...   \n",
       "3           1  1589376922  {'type': 'Point', 'coordinates': [77.602595282...   \n",
       "4           1  1589385081  {'type': 'Point', 'coordinates': [77.591034132...   \n",
       "\n",
       "   stratum_id  temporal_id  \n",
       "0           0   1589374800  \n",
       "1           1   1589374800  \n",
       "2           2   1589374800  \n",
       "3           3   1589374800  \n",
       "4           0   1589382000  "
      ]
     },
     "execution_count": 11,
     "metadata": {},
     "output_type": "execute_result"
    }
   ],
   "source": [
    "df = dataloader.fetch_data()\n",
    "df.head()"
   ]
  },
  {
   "cell_type": "markdown",
   "metadata": {},
   "source": [
    "## Vehicle Selection\n",
    "\n",
    "Now, we can finally use the available algorithms to select the desired number of vehicles. In the following example, we assume that we want to choose 2 vehicles.\n",
    "\n",
    "The vehicle selection (\"training\") process requires the vehicle mobility data from the database. We use another helper method in `DataLoader` to fetch this data as a Pandas DataFrame."
   ]
  },
  {
   "cell_type": "code",
   "execution_count": 12,
   "metadata": {},
   "outputs": [],
   "source": [
    "selection_df = dataloader.fetch_data_for_vehicle_selection()"
   ]
  },
  {
   "cell_type": "code",
   "execution_count": 13,
   "metadata": {},
   "outputs": [
    {
     "data": {
      "text/plain": [
       "{'selected_vehicles': [7, 1], 'coverage': 100.0}"
      ]
     },
     "execution_count": 13,
     "metadata": {},
     "output_type": "execute_result"
    }
   ],
   "source": [
    "# Using greedy\n",
    "greedy = GreedyVehicleSelector(2, selection_df, 1589389199)\n",
    "selected_vehicles = greedy.train()\n",
    "greedy.test(selected_vehicles)"
   ]
  },
  {
   "cell_type": "code",
   "execution_count": 14,
   "metadata": {},
   "outputs": [
    {
     "data": {
      "text/plain": [
       "{'selected_vehicles': [5, 7], 'coverage': 62.5}"
      ]
     },
     "execution_count": 14,
     "metadata": {},
     "output_type": "execute_result"
    }
   ],
   "source": [
    "# Using max-points\n",
    "maxpoints = MaxPointsVehicleSelector(2, selection_df, 1589389199)\n",
    "selected_vehicles = maxpoints.train()\n",
    "maxpoints.test(selected_vehicles)"
   ]
  },
  {
   "cell_type": "code",
   "execution_count": 18,
   "metadata": {},
   "outputs": [
    {
     "data": {
      "text/plain": [
       "{'selected_vehicles': [1, 2], 'coverage': 56.25}"
      ]
     },
     "execution_count": 18,
     "metadata": {},
     "output_type": "execute_result"
    }
   ],
   "source": [
    "# Using random\n",
    "random_algo = RandomVehicleSelector(2, selection_df, 1589389199)\n",
    "selected_vehicles = random_algo.train()\n",
    "random_algo.test(selected_vehicles)"
   ]
  }
 ],
 "metadata": {
  "kernelspec": {
   "display_name": "env",
   "language": "python",
   "name": "env"
  },
  "language_info": {
   "codemirror_mode": {
    "name": "ipython",
    "version": 3
   },
   "file_extension": ".py",
   "mimetype": "text/x-python",
   "name": "python",
   "nbconvert_exporter": "python",
   "pygments_lexer": "ipython3",
   "version": "3.7.6"
  }
 },
 "nbformat": 4,
 "nbformat_minor": 4
}
